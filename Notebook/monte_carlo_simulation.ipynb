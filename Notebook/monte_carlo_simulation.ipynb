{
 "cells": [
  {
   "cell_type": "markdown",
   "metadata": {},
   "source": [
    "## Implementation of Monte Carlo Simulation in Python"
   ]
  },
  {
   "cell_type": "code",
   "execution_count": 1,
   "metadata": {},
   "outputs": [],
   "source": [
    "import pandas as pd\n",
    "import numpy as np\n",
    "import matplotlib.pyplot as plt\n",
    "%matplotlib inline\n",
    "import seaborn as sns\n",
    "sns.set_style(\"darkgrid\")"
   ]
  },
  {
   "cell_type": "code",
   "execution_count": 2,
   "metadata": {},
   "outputs": [],
   "source": [
    "# set variables for the Percent to target based on historical results\n",
    "avg = 1\n",
    "std_dev = .05\n",
    "num_reps = 1000\n",
    "num_simulations = 10000"
   ]
  },
  {
   "cell_type": "code",
   "execution_count": 3,
   "metadata": {},
   "outputs": [],
   "source": [
    "# calculating the percent to target\n",
    "pct_target = np.random.normal(avg, std_dev, num_reps).round(2)"
   ]
  },
  {
   "cell_type": "code",
   "execution_count": 4,
   "metadata": {},
   "outputs": [
    {
     "data": {
      "text/plain": [
       "array([0.91, 1.05, 0.96, 0.94, 0.88, 1.05, 1.01, 0.98, 0.88, 0.98])"
      ]
     },
     "execution_count": 4,
     "metadata": {},
     "output_type": "execute_result"
    }
   ],
   "source": [
    "pct_target[0:10]"
   ]
  },
  {
   "cell_type": "code",
   "execution_count": 5,
   "metadata": {},
   "outputs": [],
   "source": [
    "# Another example -- using 'sales target' distribution\n",
    "\n",
    "sales_target_values = [75_000, 100_000, 200_000, 300_000, 400_000, 500_000]\n",
    "sales_target_prob = [.3, .3, .2, .1, .05, .05]\n",
    "sales_target = np.random.choice(sales_target_values, num_reps, p=sales_target_prob)"
   ]
  },
  {
   "cell_type": "code",
   "execution_count": 6,
   "metadata": {},
   "outputs": [
    {
     "data": {
      "text/plain": [
       "array([ 75000, 200000, 100000,  75000, 100000,  75000,  75000, 100000,\n",
       "        75000, 200000])"
      ]
     },
     "execution_count": 6,
     "metadata": {},
     "output_type": "execute_result"
    }
   ],
   "source": [
    "sales_target[0:10]"
   ]
  },
  {
   "cell_type": "code",
   "execution_count": 7,
   "metadata": {},
   "outputs": [
    {
     "data": {
      "text/html": [
       "<div>\n",
       "<style scoped>\n",
       "    .dataframe tbody tr th:only-of-type {\n",
       "        vertical-align: middle;\n",
       "    }\n",
       "\n",
       "    .dataframe tbody tr th {\n",
       "        vertical-align: top;\n",
       "    }\n",
       "\n",
       "    .dataframe thead th {\n",
       "        text-align: right;\n",
       "    }\n",
       "</style>\n",
       "<table border=\"1\" class=\"dataframe\">\n",
       "  <thead>\n",
       "    <tr style=\"text-align: right;\">\n",
       "      <th></th>\n",
       "      <th>Pct_Target</th>\n",
       "      <th>Sales_Target</th>\n",
       "    </tr>\n",
       "  </thead>\n",
       "  <tbody>\n",
       "    <tr>\n",
       "      <td>0</td>\n",
       "      <td>0.91</td>\n",
       "      <td>75000</td>\n",
       "    </tr>\n",
       "    <tr>\n",
       "      <td>1</td>\n",
       "      <td>1.05</td>\n",
       "      <td>200000</td>\n",
       "    </tr>\n",
       "    <tr>\n",
       "      <td>2</td>\n",
       "      <td>0.96</td>\n",
       "      <td>100000</td>\n",
       "    </tr>\n",
       "    <tr>\n",
       "      <td>3</td>\n",
       "      <td>0.94</td>\n",
       "      <td>75000</td>\n",
       "    </tr>\n",
       "    <tr>\n",
       "      <td>4</td>\n",
       "      <td>0.88</td>\n",
       "      <td>100000</td>\n",
       "    </tr>\n",
       "  </tbody>\n",
       "</table>\n",
       "</div>"
      ],
      "text/plain": [
       "   Pct_Target  Sales_Target\n",
       "0        0.91         75000\n",
       "1        1.05        200000\n",
       "2        0.96        100000\n",
       "3        0.94         75000\n",
       "4        0.88        100000"
      ]
     },
     "execution_count": 7,
     "metadata": {},
     "output_type": "execute_result"
    }
   ],
   "source": [
    "# creating the dataframe\n",
    "df = pd.DataFrame(index=range(num_reps), data={'Pct_Target': pct_target,\n",
    "                                               'Sales_Target': sales_target})\n",
    "df.head()"
   ]
  },
  {
   "cell_type": "code",
   "execution_count": 8,
   "metadata": {},
   "outputs": [
    {
     "data": {
      "image/png": "[encoded data removed]",
      "text/plain": [
       "<Figure size 432x288 with 1 Axes>"
      ]
     },
     "metadata": {
      "needs_background": "light"
     },
     "output_type": "display_data"
    }
   ],
   "source": [
    "# visualizing the distribution using a histogram \n",
    "df['Pct_Target'].plot(kind='hist', title='Historical percent to Target Distribution')\n",
    "plt.show()"
   ]
  },
  {
   "cell_type": "code",
   "execution_count": 9,
   "metadata": {},
   "outputs": [
    {
     "data": {
      "image/png": "[encoded data removed]",
      "text/plain": [
       "<Figure size 432x288 with 1 Axes>"
      ]
     },
     "metadata": {
      "needs_background": "light"
     },
     "output_type": "display_data"
    }
   ],
   "source": [
    "# Visualizing the sales target distribution\n",
    "df['Sales_Target'].plot(kind='hist', title='Historical Sales Target Distribution')\n",
    "plt.show()"
   ]
  },
  {
   "cell_type": "code",
   "execution_count": 10,
   "metadata": {},
   "outputs": [],
   "source": [
    "\n",
    "# sales amount\n",
    "df['Sales'] = df['Pct_Target'] * df['Sales_Target']"
   ]
  },
  {
   "cell_type": "code",
   "execution_count": 11,
   "metadata": {},
   "outputs": [],
   "source": [
    "def get_commission_rate(x):\n",
    "    \"\"\" Return the commission rate based on the table:\n",
    "    0-90% = 2%\n",
    "    91-99% = 3%\n",
    "    >= 100 = 5%\n",
    "    \"\"\"\n",
    "    if x <= .90:\n",
    "        return .02\n",
    "    if x <= .99:\n",
    "        return .03\n",
    "    else:\n",
    "        return .05"
   ]
  },
  {
   "cell_type": "code",
   "execution_count": 12,
   "metadata": {},
   "outputs": [
    {
     "data": {
      "text/html": [
       "<div>\n",
       "<style scoped>\n",
       "    .dataframe tbody tr th:only-of-type {\n",
       "        vertical-align: middle;\n",
       "    }\n",
       "\n",
       "    .dataframe tbody tr th {\n",
       "        vertical-align: top;\n",
       "    }\n",
       "\n",
       "    .dataframe thead th {\n",
       "        text-align: right;\n",
       "    }\n",
       "</style>\n",
       "<table border=\"1\" class=\"dataframe\">\n",
       "  <thead>\n",
       "    <tr style=\"text-align: right;\">\n",
       "      <th></th>\n",
       "      <th>Pct_Target</th>\n",
       "      <th>Sales_Target</th>\n",
       "      <th>Sales</th>\n",
       "      <th>Commission_Rate</th>\n",
       "    </tr>\n",
       "  </thead>\n",
       "  <tbody>\n",
       "    <tr>\n",
       "      <td>0</td>\n",
       "      <td>0.91</td>\n",
       "      <td>75000</td>\n",
       "      <td>68250.0</td>\n",
       "      <td>0.03</td>\n",
       "    </tr>\n",
       "    <tr>\n",
       "      <td>1</td>\n",
       "      <td>1.05</td>\n",
       "      <td>200000</td>\n",
       "      <td>210000.0</td>\n",
       "      <td>0.05</td>\n",
       "    </tr>\n",
       "    <tr>\n",
       "      <td>2</td>\n",
       "      <td>0.96</td>\n",
       "      <td>100000</td>\n",
       "      <td>96000.0</td>\n",
       "      <td>0.03</td>\n",
       "    </tr>\n",
       "    <tr>\n",
       "      <td>3</td>\n",
       "      <td>0.94</td>\n",
       "      <td>75000</td>\n",
       "      <td>70500.0</td>\n",
       "      <td>0.03</td>\n",
       "    </tr>\n",
       "    <tr>\n",
       "      <td>4</td>\n",
       "      <td>0.88</td>\n",
       "      <td>100000</td>\n",
       "      <td>88000.0</td>\n",
       "      <td>0.02</td>\n",
       "    </tr>\n",
       "  </tbody>\n",
       "</table>\n",
       "</div>"
      ],
      "text/plain": [
       "   Pct_Target  Sales_Target     Sales  Commission_Rate\n",
       "0        0.91         75000   68250.0             0.03\n",
       "1        1.05        200000  210000.0             0.05\n",
       "2        0.96        100000   96000.0             0.03\n",
       "3        0.94         75000   70500.0             0.03\n",
       "4        0.88        100000   88000.0             0.02"
      ]
     },
     "execution_count": 12,
     "metadata": {},
     "output_type": "execute_result"
    }
   ],
   "source": [
    "df['Commission_Rate'] = df['Pct_Target'].apply(get_commission_rate)\n",
    "df.head()"
   ]
  },
  {
   "cell_type": "code",
   "execution_count": 13,
   "metadata": {},
   "outputs": [
    {
     "data": {
      "text/html": [
       "<div>\n",
       "<style scoped>\n",
       "    .dataframe tbody tr th:only-of-type {\n",
       "        vertical-align: middle;\n",
       "    }\n",
       "\n",
       "    .dataframe tbody tr th {\n",
       "        vertical-align: top;\n",
       "    }\n",
       "\n",
       "    .dataframe thead th {\n",
       "        text-align: right;\n",
       "    }\n",
       "</style>\n",
       "<table border=\"1\" class=\"dataframe\">\n",
       "  <thead>\n",
       "    <tr style=\"text-align: right;\">\n",
       "      <th></th>\n",
       "      <th>Pct_Target</th>\n",
       "      <th>Sales_Target</th>\n",
       "      <th>Sales</th>\n",
       "      <th>Commission_Rate</th>\n",
       "      <th>Commission_Amount</th>\n",
       "    </tr>\n",
       "  </thead>\n",
       "  <tbody>\n",
       "    <tr>\n",
       "      <td>0</td>\n",
       "      <td>0.91</td>\n",
       "      <td>75000</td>\n",
       "      <td>68250.0</td>\n",
       "      <td>0.03</td>\n",
       "      <td>2047.5</td>\n",
       "    </tr>\n",
       "    <tr>\n",
       "      <td>1</td>\n",
       "      <td>1.05</td>\n",
       "      <td>200000</td>\n",
       "      <td>210000.0</td>\n",
       "      <td>0.05</td>\n",
       "      <td>10500.0</td>\n",
       "    </tr>\n",
       "    <tr>\n",
       "      <td>2</td>\n",
       "      <td>0.96</td>\n",
       "      <td>100000</td>\n",
       "      <td>96000.0</td>\n",
       "      <td>0.03</td>\n",
       "      <td>2880.0</td>\n",
       "    </tr>\n",
       "    <tr>\n",
       "      <td>3</td>\n",
       "      <td>0.94</td>\n",
       "      <td>75000</td>\n",
       "      <td>70500.0</td>\n",
       "      <td>0.03</td>\n",
       "      <td>2115.0</td>\n",
       "    </tr>\n",
       "    <tr>\n",
       "      <td>4</td>\n",
       "      <td>0.88</td>\n",
       "      <td>100000</td>\n",
       "      <td>88000.0</td>\n",
       "      <td>0.02</td>\n",
       "      <td>1760.0</td>\n",
       "    </tr>\n",
       "  </tbody>\n",
       "</table>\n",
       "</div>"
      ],
      "text/plain": [
       "   Pct_Target  Sales_Target     Sales  Commission_Rate  Commission_Amount\n",
       "0        0.91         75000   68250.0             0.03             2047.5\n",
       "1        1.05        200000  210000.0             0.05            10500.0\n",
       "2        0.96        100000   96000.0             0.03             2880.0\n",
       "3        0.94         75000   70500.0             0.03             2115.0\n",
       "4        0.88        100000   88000.0             0.02             1760.0"
      ]
     },
     "execution_count": 13,
     "metadata": {},
     "output_type": "execute_result"
    }
   ],
   "source": [
    "#get actual commission amount\n",
    "\n",
    "df['Commission_Amount'] = df['Commission_Rate'] * df['Sales']\n",
    "df.head()"
   ]
  },
  {
   "cell_type": "code",
   "execution_count": 14,
   "metadata": {},
   "outputs": [
    {
     "data": {
      "text/plain": [
       "(169289500.0, 7005895.0, 169225000)"
      ]
     },
     "execution_count": 14,
     "metadata": {},
     "output_type": "execute_result"
    }
   ],
   "source": [
    "#get sum of each of sales, sales_target and commission amount\n",
    "df['Sales'].sum(), df['Commission_Amount'].sum(), df['Sales_Target'].sum()"
   ]
  },
  {
   "cell_type": "code",
   "execution_count": 15,
   "metadata": {},
   "outputs": [
    {
     "data": {
      "text/html": [
       "<div>\n",
       "<style scoped>\n",
       "    .dataframe tbody tr th:only-of-type {\n",
       "        vertical-align: middle;\n",
       "    }\n",
       "\n",
       "    .dataframe tbody tr th {\n",
       "        vertical-align: top;\n",
       "    }\n",
       "\n",
       "    .dataframe thead th {\n",
       "        text-align: right;\n",
       "    }\n",
       "</style>\n",
       "<table border=\"1\" class=\"dataframe\">\n",
       "  <thead>\n",
       "    <tr style=\"text-align: right;\">\n",
       "      <th></th>\n",
       "      <th>Pct_Target</th>\n",
       "      <th>Sales_Target</th>\n",
       "      <th>Sales</th>\n",
       "      <th>Commission_Rate</th>\n",
       "      <th>Commission_Amount</th>\n",
       "    </tr>\n",
       "  </thead>\n",
       "  <tbody>\n",
       "    <tr>\n",
       "      <td>count</td>\n",
       "      <td>1000.000000</td>\n",
       "      <td>1000.000000</td>\n",
       "      <td>1000.000000</td>\n",
       "      <td>1000.00000</td>\n",
       "      <td>1000.000000</td>\n",
       "    </tr>\n",
       "    <tr>\n",
       "      <td>mean</td>\n",
       "      <td>1.000080</td>\n",
       "      <td>169225.000000</td>\n",
       "      <td>169289.500000</td>\n",
       "      <td>0.04078</td>\n",
       "      <td>7005.895000</td>\n",
       "    </tr>\n",
       "    <tr>\n",
       "      <td>std</td>\n",
       "      <td>0.048709</td>\n",
       "      <td>122002.700929</td>\n",
       "      <td>122416.744357</td>\n",
       "      <td>0.01030</td>\n",
       "      <td>5682.462452</td>\n",
       "    </tr>\n",
       "    <tr>\n",
       "      <td>min</td>\n",
       "      <td>0.810000</td>\n",
       "      <td>75000.000000</td>\n",
       "      <td>64500.000000</td>\n",
       "      <td>0.02000</td>\n",
       "      <td>1290.000000</td>\n",
       "    </tr>\n",
       "    <tr>\n",
       "      <td>25%</td>\n",
       "      <td>0.970000</td>\n",
       "      <td>75000.000000</td>\n",
       "      <td>78000.000000</td>\n",
       "      <td>0.03000</td>\n",
       "      <td>2970.000000</td>\n",
       "    </tr>\n",
       "    <tr>\n",
       "      <td>50%</td>\n",
       "      <td>1.000000</td>\n",
       "      <td>100000.000000</td>\n",
       "      <td>102000.000000</td>\n",
       "      <td>0.05000</td>\n",
       "      <td>5100.000000</td>\n",
       "    </tr>\n",
       "    <tr>\n",
       "      <td>75%</td>\n",
       "      <td>1.030000</td>\n",
       "      <td>200000.000000</td>\n",
       "      <td>208000.000000</td>\n",
       "      <td>0.05000</td>\n",
       "      <td>10100.000000</td>\n",
       "    </tr>\n",
       "    <tr>\n",
       "      <td>max</td>\n",
       "      <td>1.190000</td>\n",
       "      <td>500000.000000</td>\n",
       "      <td>560000.000000</td>\n",
       "      <td>0.05000</td>\n",
       "      <td>28000.000000</td>\n",
       "    </tr>\n",
       "  </tbody>\n",
       "</table>\n",
       "</div>"
      ],
      "text/plain": [
       "        Pct_Target   Sales_Target          Sales  Commission_Rate  \\\n",
       "count  1000.000000    1000.000000    1000.000000       1000.00000   \n",
       "mean      1.000080  169225.000000  169289.500000          0.04078   \n",
       "std       0.048709  122002.700929  122416.744357          0.01030   \n",
       "min       0.810000   75000.000000   64500.000000          0.02000   \n",
       "25%       0.970000   75000.000000   78000.000000          0.03000   \n",
       "50%       1.000000  100000.000000  102000.000000          0.05000   \n",
       "75%       1.030000  200000.000000  208000.000000          0.05000   \n",
       "max       1.190000  500000.000000  560000.000000          0.05000   \n",
       "\n",
       "       Commission_Amount  \n",
       "count        1000.000000  \n",
       "mean         7005.895000  \n",
       "std          5682.462452  \n",
       "min          1290.000000  \n",
       "25%          2970.000000  \n",
       "50%          5100.000000  \n",
       "75%         10100.000000  \n",
       "max         28000.000000  "
      ]
     },
     "execution_count": 15,
     "metadata": {},
     "output_type": "execute_result"
    }
   ],
   "source": [
    "#key summary statistics\n",
    "df.describe()"
   ]
  },
  {
   "cell_type": "markdown",
   "metadata": {},
   "source": [
    "### Full Simulation - Combining the results of each round of simulation"
   ]
  },
  {
   "cell_type": "code",
   "execution_count": 16,
   "metadata": {},
   "outputs": [],
   "source": [
    "# Initializing a list to keep the results from each round of simulation \n",
    "all_stats = []\n",
    "\n",
    "# Loop through the simulations\n",
    "for i in range(num_simulations):\n",
    "    \n",
    "    # Choosing random inputs for the sales targets and percent to target\n",
    "    sales_target = np.random.choice(sales_target_values, num_reps, p=sales_target_prob)\n",
    "    pct_target = np.random.normal(avg, std_dev, num_reps).round(2)\n",
    "    \n",
    "    # Dataframe for the inputs and number of reps\n",
    "    df = pd.DataFrame(index=range(num_reps), data={'Pct_Target': pct_target,\n",
    "                                                   'Sales_Target': sales_target})\n",
    "    \n",
    "    # Back into the sales number using the percent to target rate\n",
    "    df['Sales'] = df['Pct_Target'] * df['Sales_Target']\n",
    "    \n",
    "    # Determining the commission rate and commision amount\n",
    "    df['Commission_Rate'] = df['Pct_Target'].apply(get_commission_rate)\n",
    "    df['Commission_Amount'] = df['Commission_Rate'] * df['Sales']\n",
    "    \n",
    "    #tracking sales,commission amounts and sales targets over all the simulations\n",
    "    all_stats.append([df['Sales'].sum().round(0), \n",
    "                      df['Commission_Amount'].sum().round(0), \n",
    "                      df['Sales_Target'].sum().round(0)])"
   ]
  },
  {
   "cell_type": "code",
   "execution_count": 17,
   "metadata": {},
   "outputs": [],
   "source": [
    "results_df = pd.DataFrame.from_records(all_stats, columns=['Sales', 'Commission_Amount', 'Sales_Target'])"
   ]
  },
  {
   "cell_type": "code",
   "execution_count": 18,
   "metadata": {},
   "outputs": [
    {
     "data": {
      "text/html": [
       "<style  type=\"text/css\" >\n",
       "</style><table id=\"T_81579a42_dfa9_11ec_a4ab_8c8590a572ef\" ><thead>    <tr>        <th class=\"blank level0\" ></th>        <th class=\"col_heading level0 col0\" >Sales</th>        <th class=\"col_heading level0 col1\" >Commission_Amount</th>        <th class=\"col_heading level0 col2\" >Sales_Target</th>    </tr></thead><tbody>\n",
       "                <tr>\n",
       "                        <th id=\"T_81579a42_dfa9_11ec_a4ab_8c8590a572eflevel0_row0\" class=\"row_heading level0 row0\" >count</th>\n",
       "                        <td id=\"T_81579a42_dfa9_11ec_a4ab_8c8590a572efrow0_col0\" class=\"data row0 col0\" >10,000.0</td>\n",
       "                        <td id=\"T_81579a42_dfa9_11ec_a4ab_8c8590a572efrow0_col1\" class=\"data row0 col1\" >10,000.0</td>\n",
       "                        <td id=\"T_81579a42_dfa9_11ec_a4ab_8c8590a572efrow0_col2\" class=\"data row0 col2\" >10,000.0</td>\n",
       "            </tr>\n",
       "            <tr>\n",
       "                        <th id=\"T_81579a42_dfa9_11ec_a4ab_8c8590a572eflevel0_row1\" class=\"row_heading level0 row1\" >mean</th>\n",
       "                        <td id=\"T_81579a42_dfa9_11ec_a4ab_8c8590a572efrow1_col0\" class=\"data row1 col0\" >167,492,125.0</td>\n",
       "                        <td id=\"T_81579a42_dfa9_11ec_a4ab_8c8590a572efrow1_col1\" class=\"data row1 col1\" >6,857,150.0</td>\n",
       "                        <td id=\"T_81579a42_dfa9_11ec_a4ab_8c8590a572efrow1_col2\" class=\"data row1 col2\" >167,492,992.0</td>\n",
       "            </tr>\n",
       "            <tr>\n",
       "                        <th id=\"T_81579a42_dfa9_11ec_a4ab_8c8590a572eflevel0_row2\" class=\"row_heading level0 row2\" >std</th>\n",
       "                        <td id=\"T_81579a42_dfa9_11ec_a4ab_8c8590a572efrow2_col0\" class=\"data row2 col0\" >3,763,351.0</td>\n",
       "                        <td id=\"T_81579a42_dfa9_11ec_a4ab_8c8590a572efrow2_col1\" class=\"data row2 col1\" >170,634.0</td>\n",
       "                        <td id=\"T_81579a42_dfa9_11ec_a4ab_8c8590a572efrow2_col2\" class=\"data row2 col2\" >3,753,256.0</td>\n",
       "            </tr>\n",
       "            <tr>\n",
       "                        <th id=\"T_81579a42_dfa9_11ec_a4ab_8c8590a572eflevel0_row3\" class=\"row_heading level0 row3\" >min</th>\n",
       "                        <td id=\"T_81579a42_dfa9_11ec_a4ab_8c8590a572efrow3_col0\" class=\"data row3 col0\" >153,737,500.0</td>\n",
       "                        <td id=\"T_81579a42_dfa9_11ec_a4ab_8c8590a572efrow3_col1\" class=\"data row3 col1\" >6,211,128.0</td>\n",
       "                        <td id=\"T_81579a42_dfa9_11ec_a4ab_8c8590a572efrow3_col2\" class=\"data row3 col2\" >153,675,000.0</td>\n",
       "            </tr>\n",
       "            <tr>\n",
       "                        <th id=\"T_81579a42_dfa9_11ec_a4ab_8c8590a572eflevel0_row4\" class=\"row_heading level0 row4\" >25%</th>\n",
       "                        <td id=\"T_81579a42_dfa9_11ec_a4ab_8c8590a572efrow4_col0\" class=\"data row4 col0\" >164,890,062.0</td>\n",
       "                        <td id=\"T_81579a42_dfa9_11ec_a4ab_8c8590a572efrow4_col1\" class=\"data row4 col1\" >6,740,431.0</td>\n",
       "                        <td id=\"T_81579a42_dfa9_11ec_a4ab_8c8590a572efrow4_col2\" class=\"data row4 col2\" >164,925,000.0</td>\n",
       "            </tr>\n",
       "            <tr>\n",
       "                        <th id=\"T_81579a42_dfa9_11ec_a4ab_8c8590a572eflevel0_row5\" class=\"row_heading level0 row5\" >50%</th>\n",
       "                        <td id=\"T_81579a42_dfa9_11ec_a4ab_8c8590a572efrow5_col0\" class=\"data row5 col0\" >167,465,250.0</td>\n",
       "                        <td id=\"T_81579a42_dfa9_11ec_a4ab_8c8590a572efrow5_col1\" class=\"data row5 col1\" >6,853,900.0</td>\n",
       "                        <td id=\"T_81579a42_dfa9_11ec_a4ab_8c8590a572efrow5_col2\" class=\"data row5 col2\" >167,450,000.0</td>\n",
       "            </tr>\n",
       "            <tr>\n",
       "                        <th id=\"T_81579a42_dfa9_11ec_a4ab_8c8590a572eflevel0_row6\" class=\"row_heading level0 row6\" >75%</th>\n",
       "                        <td id=\"T_81579a42_dfa9_11ec_a4ab_8c8590a572efrow6_col0\" class=\"data row6 col0\" >170,052,312.0</td>\n",
       "                        <td id=\"T_81579a42_dfa9_11ec_a4ab_8c8590a572efrow6_col1\" class=\"data row6 col1\" >6,971,926.0</td>\n",
       "                        <td id=\"T_81579a42_dfa9_11ec_a4ab_8c8590a572efrow6_col2\" class=\"data row6 col2\" >170,075,000.0</td>\n",
       "            </tr>\n",
       "            <tr>\n",
       "                        <th id=\"T_81579a42_dfa9_11ec_a4ab_8c8590a572eflevel0_row7\" class=\"row_heading level0 row7\" >max</th>\n",
       "                        <td id=\"T_81579a42_dfa9_11ec_a4ab_8c8590a572efrow7_col0\" class=\"data row7 col0\" >182,642,000.0</td>\n",
       "                        <td id=\"T_81579a42_dfa9_11ec_a4ab_8c8590a572efrow7_col1\" class=\"data row7 col1\" >7,520,312.0</td>\n",
       "                        <td id=\"T_81579a42_dfa9_11ec_a4ab_8c8590a572efrow7_col2\" class=\"data row7 col2\" >182,350,000.0</td>\n",
       "            </tr>\n",
       "    </tbody></table>"
      ],
      "text/plain": [
       "<pandas.io.formats.style.Styler at 0x7fa9a79d1590>"
      ]
     },
     "execution_count": 18,
     "metadata": {},
     "output_type": "execute_result"
    }
   ],
   "source": [
    "results_df.describe().round().style.format('{:,}')"
   ]
  },
  {
   "cell_type": "code",
   "execution_count": 19,
   "metadata": {},
   "outputs": [
    {
     "data": {
      "image/png": "[encoded data removed]",
      "text/plain": [
       "<Figure size 432x288 with 1 Axes>"
      ]
     },
     "metadata": {
      "needs_background": "light"
     },
     "output_type": "display_data"
    }
   ],
   "source": [
    "results_df['Commission_Amount'].plot(kind='hist', title=\"Total Commission Amount\")\n",
    "plt.show()"
   ]
  },
  {
   "cell_type": "code",
   "execution_count": 20,
   "metadata": {},
   "outputs": [
    {
     "data": {
      "image/png": "[encoded data removed]",
      "text/plain": [
       "<Figure size 432x288 with 1 Axes>"
      ]
     },
     "metadata": {
      "needs_background": "light"
     },
     "output_type": "display_data"
    }
   ],
   "source": [
    "results_df['Sales'].plot(kind='hist')\n",
    "plt.show()"
   ]
  },
  {
   "cell_type": "code",
   "execution_count": null,
   "metadata": {},
   "outputs": [],
   "source": []
  }
 ],
 "metadata": {
  "kernelspec": {
   "display_name": "Python 3",
   "language": "python",
   "name": "python3"
  },
  "language_info": {
   "codemirror_mode": {
    "name": "ipython",
    "version": 3
   },
   "file_extension": ".py",
   "mimetype": "text/x-python",
   "name": "python",
   "nbconvert_exporter": "python",
   "pygments_lexer": "ipython3",
   "version": "3.7.4"
  }
 },
 "nbformat": 4,
 "nbformat_minor": 4
}
